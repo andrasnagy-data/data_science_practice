{
 "cells": [
  {
   "cell_type": "code",
   "execution_count": 1,
   "metadata": {},
   "outputs": [],
   "source": [
    "import numpy as np\n",
    "from scipy.stats import beta\n",
    "from scipy import integrate\n",
    "import matplotlib.pyplot as plt\n",
    "%matplotlib inline"
   ]
  },
  {
   "cell_type": "code",
   "execution_count": 2,
   "metadata": {},
   "outputs": [],
   "source": [
    "# parameters\n",
    "a, b = 6, 1\n",
    "\n",
    "# probability vector\n",
    "p = np.linspace(beta.ppf(0.01, a, b), beta.ppf(0.99, a, b), 100)"
   ]
  },
  {
   "cell_type": "code",
   "execution_count": 3,
   "metadata": {},
   "outputs": [
    {
     "data": {
      "image/png": "[encoded data removed]",
      "text/plain": [
       "<Figure size 432x288 with 1 Axes>"
      ]
     },
     "metadata": {
      "needs_background": "light"
     },
     "output_type": "display_data"
    }
   ],
   "source": [
    "# plotting distribution\n",
    "plt.plot(beta.pdf(p, a, b))\n",
    "plt.title(\"PDF Beta(6, 1)\")\n",
    "plt.xlabel(\"Heads\")\n",
    "plt.ylabel(\"Density\")\n",
    "plt.show()"
   ]
  },
  {
   "cell_type": "code",
   "execution_count": 4,
   "metadata": {},
   "outputs": [
    {
     "data": {
      "text/plain": [
       "(0.04255999999999998, 4.725109192804664e-16)"
      ]
     },
     "execution_count": 4,
     "metadata": {},
     "output_type": "execute_result"
    }
   ],
   "source": [
    "# Random Variable Heads = p(Heads) \n",
    "# p(Heads = [0.4, 0.6])\n",
    "# lower and upper bounds of integration\n",
    "l, u = 0.4, 0.6\n",
    "\n",
    "# function object\n",
    "func = beta(a, b)\n",
    "\n",
    "# integration\n",
    "integrate.quad(func.pdf, l, u)"
   ]
  },
  {
   "cell_type": "raw",
   "metadata": {},
   "source": [
    "Approximately, 4.26 % chance that the H is in range[0.4, 0.6]"
   ]
  },
  {
   "cell_type": "code",
   "execution_count": 5,
   "metadata": {},
   "outputs": [
    {
     "name": "stdout",
     "output_type": "stream",
     "text": [
      "(0.4668646400000001, 5.183238727113349e-15)\n"
     ]
    }
   ],
   "source": [
    "# function to solve for area\n",
    "def solve_for_area(c, d):\n",
    "    func = beta(c, d)\n",
    "    l = 0.4\n",
    "    u = 0.6\n",
    "    ans = integrate.quad(func.pdf, l, u)\n",
    "    print(ans)\n",
    "\n",
    "solve_for_area(5, 5)"
   ]
  },
  {
   "cell_type": "code",
   "execution_count": 6,
   "metadata": {},
   "outputs": [
    {
     "name": "stdout",
     "output_type": "stream",
     "text": [
      "(0.383257088, 4.255008434483898e-15)\n"
     ]
    }
   ],
   "source": [
    "solve_for_area(6,4)"
   ]
  },
  {
   "cell_type": "code",
   "execution_count": 7,
   "metadata": {},
   "outputs": [
    {
     "name": "stdout",
     "output_type": "stream",
     "text": [
      "(0.383257088, 4.255008434483898e-15)\n"
     ]
    }
   ],
   "source": [
    "solve_for_area(4,6)"
   ]
  },
  {
   "cell_type": "code",
   "execution_count": 8,
   "metadata": {},
   "outputs": [
    {
     "name": "stdout",
     "output_type": "stream",
     "text": [
      "(0.9561391157398282, 4.147870453301663e-12)\n"
     ]
    }
   ],
   "source": [
    "solve_for_area(50,50)"
   ]
  },
  {
   "cell_type": "code",
   "execution_count": 9,
   "metadata": {},
   "outputs": [
    {
     "name": "stdout",
     "output_type": "stream",
     "text": [
      "(0.9582066179906034, 5.670060383499283e-12)\n"
     ]
    }
   ],
   "source": [
    "solve_for_area(51, 51)"
   ]
  },
  {
   "cell_type": "code",
   "execution_count": 10,
   "metadata": {},
   "outputs": [
    {
     "name": "stdout",
     "output_type": "stream",
     "text": [
      "(0.9539637135399536, 3.0107525971947807e-12)\n"
     ]
    }
   ],
   "source": [
    "solve_for_area(49, 49)"
   ]
  },
  {
   "cell_type": "code",
   "execution_count": 11,
   "metadata": {},
   "outputs": [
    {
     "name": "stdout",
     "output_type": "stream",
     "text": [
      "(0.9440550320133069, 7.683278694130811e-13)\n"
     ]
    }
   ],
   "source": [
    "solve_for_area(45, 45)"
   ]
  },
  {
   "cell_type": "code",
   "execution_count": 12,
   "metadata": {},
   "outputs": [
    {
     "name": "stdout",
     "output_type": "stream",
     "text": [
      "(0.9492644080552477, 1.5481056550399227e-12)\n"
     ]
    }
   ],
   "source": [
    "solve_for_area(47, 47)"
   ]
  },
  {
   "cell_type": "code",
   "execution_count": 13,
   "metadata": {},
   "outputs": [
    {
     "name": "stdout",
     "output_type": "stream",
     "text": [
      "(0.9516743083038154, 2.1679924158602457e-12)\n"
     ]
    }
   ],
   "source": [
    "solve_for_area(48, 48)"
   ]
  },
  {
   "cell_type": "raw",
   "metadata": {},
   "source": [
    "Beta(a, b), such that a, b = 48"
   ]
  },
  {
   "cell_type": "code",
   "execution_count": 14,
   "metadata": {},
   "outputs": [
    {
     "name": "stdout",
     "output_type": "stream",
     "text": [
      "(0.9516743083038196, 2.1675247353443673e-12)\n",
      "1\n",
      "(0.9494316256235119, 1.3956410562492848e-12)\n",
      "2\n",
      "(0.9450808212237568, 2.996044397218997e-13)\n",
      "3\n",
      "(0.938726940602285, 4.645653093886568e-13)\n",
      "4\n",
      "(0.9304501750559033, 2.1908633061304832e-12)\n",
      "5\n",
      "(0.9203114375796412, 4.1115848300383625e-12)\n",
      "6\n",
      "(0.9083583341463797, 5.307139936974941e-12)\n",
      "7\n",
      "(0.8946311058382547, 5.123122811927218e-12)\n",
      "8\n",
      "(0.8791682112782704, 3.493448400928001e-12)\n",
      "9\n",
      "(0.8620113061390073, 1.2283763530231666e-12)\n",
      "10\n",
      "(0.8432094539926884, 1.7561135111140974e-13)\n",
      "11\n",
      "(0.8228224691921329, 2.505983140041281e-12)\n",
      "12\n",
      "(0.8009233479052599, 5.668401168846945e-12)\n",
      "13\n",
      "(0.7775997886665663, 8.241127070058259e-12)\n",
      "14\n",
      "(0.7529548399651491, 9.182895901020814e-12)\n",
      "15\n",
      "(0.7271067406107361, 8.059647146973399e-12)\n",
      "16\n",
      "(0.7001880399384028, 5.228691019015083e-12)\n",
      "17\n",
      "(0.6723441001938292, 1.817430335527341e-12)\n",
      "18\n",
      "(0.6437310933747632, 1.9340187831827237e-13)\n",
      "19\n",
      "(0.614513609956143, 3.2529988302310693e-12)\n",
      "20\n",
      "(0.5848619977777112, 7.501719761095089e-12)\n",
      "21\n",
      "(0.5549495463816275, 1.1227821839875708e-11)\n",
      "22\n",
      "(0.5249496257182761, 1.3158886607607527e-11)\n",
      "23\n",
      "(0.49503287889221625, 1.2645522389531323e-11)\n",
      "24\n",
      "(0.46536455704085344, 9.803528204551979e-12)\n",
      "25\n",
      "(0.4361020711060088, 5.558363955460385e-12)\n",
      "26\n",
      "(0.4073928207774561, 1.45579624207071e-12)\n",
      "27\n",
      "(0.3793723458590235, 6.576030606768937e-13)\n",
      "28\n",
      "(0.3521628303117711, 4.543569601597591e-12)\n",
      "29\n",
      "(0.32587197479437296, 9.381212645488065e-12)\n",
      "30\n",
      "(0.30059224010918834, 1.3540102106710878e-11)\n",
      "31\n",
      "(0.27640045195108676, 1.5853118881977417e-11)\n",
      "32\n",
      "(0.2533577470260118, 1.5727896337883593e-11)\n",
      "33\n",
      "(0.23150983214310647, 1.323170297444948e-11)\n",
      "34\n",
      "(0.21088752137556704, 9.02862219547185e-12)\n",
      "35\n",
      "(0.19150751183086331, 4.325517105577423e-12)\n",
      "36\n",
      "(0.17337335589132266, 6.205134794553479e-13)\n",
      "37\n",
      "(0.15647658683721444, 1.402419288894467e-12)\n",
      "38\n",
      "(0.14079795535228745, 5.451832125265196e-12)\n",
      "39\n",
      "(0.12630873630757974, 9.99501636624935e-12)\n",
      "40\n",
      "(0.11297206817471965, 1.3789310214613665e-11)\n",
      "41\n",
      "(0.10074429118091795, 1.5983116955078143e-11)\n",
      "42\n",
      "(0.08957625463546713, 1.615909727280166e-11)\n",
      "43\n",
      "(0.0794145684997202, 1.4356922302302459e-11)\n",
      "44\n",
      "(0.07020277902916597, 1.1024187091432187e-11)\n",
      "45\n",
      "(0.06188245300621613, 6.910355997990621e-12)\n",
      "46\n",
      "(0.054394159555834105, 2.9422743482944536e-12)\n",
      "47\n",
      "(0.047678342675190846, 2.1954576727346894e-13)\n",
      "48\n",
      "(0.041676081327526586, 1.4878390816526624e-12)\n",
      "49\n",
      "(0.036329737193008665, 4.7404757985396e-12)\n",
      "50\n",
      "(0.03158349290660215, 8.266404404794772e-12)\n",
      "51\n",
      "(0.027383785838859885, 1.1264090949494523e-11)\n",
      "52\n",
      "(0.023679644203819787, 1.319534787051968e-11)\n",
      "53\n",
      "(0.020422933537800277, 1.3782306665321358e-11)\n",
      "54\n",
      "(0.017568522424199873, 1.30039955669054e-11)\n",
      "55\n",
      "(0.015074376790699132, 1.106564266709112e-11)\n",
      "56\n",
      "(0.012901592229057655, 8.343083319764164e-12)\n",
      "57\n",
      "(0.011014373638288139, 5.3145575653298755e-12)\n",
      "58\n",
      "(0.009379971122835791, 2.499013960014397e-12)\n",
      "59\n",
      "(0.007968580539369705, 4.4652410768061755e-13)\n",
      "60\n",
      "(0.006753216425812908, 5.214609438369172e-13)\n",
      "61\n",
      "(0.005709564306272177, 2.3830777894712266e-12)\n",
      "62\n",
      "(0.004815818582078197, 4.59995433319608e-12)\n",
      "63\n",
      "(0.004052511423033782, 6.684844408713778e-12)\n",
      "64\n",
      "(0.0034023372893459726, 8.311669744556078e-12)\n",
      "65\n",
      "(0.002849976963380148, 9.28011407949423e-12)\n",
      "66\n",
      "(0.002381924266113796, 9.508345536908895e-12)\n",
      "67\n",
      "(0.00198631798633708, 9.021362673635705e-12)\n",
      "68\n",
      "(0.0016527809676975488, 7.93151046065565e-12)\n",
      "69\n",
      "(0.0013722677827903579, 6.413322849668925e-12)\n",
      "70\n",
      "(0.0011369219751139255, 4.6743122742365484e-12)\n",
      "71\n",
      "(0.0009399434671763166, 2.9349978975498417e-12)\n",
      "72\n",
      "(0.0007754664130483998, 1.4120561146585322e-12)\n",
      "73\n",
      "(0.0006384475117583516, 3.1371117962987403e-13)\n",
      "74\n",
      "(0.0005245645888828423, 1.682026144904586e-13)\n",
      "75\n",
      "(0.0004301250918640996, 1.0142250992654624e-12)\n",
      "76\n",
      "(0.0003519840241696163, 2.0761392699528695e-12)\n",
      "77\n",
      "(0.00028747075868104486, 3.1305483897666277e-12)\n",
      "78\n",
      "(0.00023432411615948527, 4.03632216029557e-12)\n",
      "79\n",
      "(0.00019063506514173885, 4.70266873651935e-12)\n",
      "80\n",
      "(0.0001547963904787494, 5.08123691331206e-12)\n",
      "81\n",
      "(0.00012545868470813842, 5.160610481679387e-12)\n",
      "82\n",
      "(0.00010149203584014496, 4.960067996290794e-12)\n",
      "83\n",
      "(8.195281370959643e-05, 4.522342287914999e-12)\n",
      "84\n",
      "(6.605499206699905e-05, 3.905935958319479e-12)\n",
      "85\n",
      "(5.314548276323957e-05, 3.1776181266699614e-12)\n",
      "86\n",
      "(4.268299984990907e-05, 2.405770507365889e-12)\n",
      "87\n",
      "(3.422001367111552e-05, 1.6551010884316224e-12)\n",
      "88\n",
      "(2.7387396888530884e-05, 9.832849355688825e-13)\n",
      "89\n",
      "(2.188140497030586e-05, 4.4062694137896373e-13)\n",
      "90\n",
      "(1.745267234042815e-05, 7.823800791785991e-14)\n",
      "91\n",
      "(1.389694168219315e-05, 8.181456573500198e-14)\n",
      "92\n",
      "(1.1047277540379045e-05, 3.8166277173507304e-13)\n",
      "93\n",
      "(8.767546226929362e-06, 7.471437061324575e-13)\n",
      "94\n",
      "(6.946972065343653e-06, 1.115273322326039e-12)\n",
      "95\n",
      "(5.495605251211196e-06, 1.4475489900977173e-12)\n",
      "96\n",
      "(4.3405591616311395e-06, 1.719184048154401e-12)\n",
      "97\n",
      "(3.422894958048124e-06, 1.915773125886585e-12)\n",
      "98\n",
      "(2.695048966438983e-06, 2.0313572924622722e-12)\n",
      "99\n",
      "(2.118713773082559e-06, 2.066805596956161e-12)\n",
      "100\n"
     ]
    }
   ],
   "source": [
    "# solution for exercise 3\n",
    "# Threshold value\n",
    "p = 0.5\n",
    "\n",
    "# extended function to solve for area\n",
    "def func(x):\n",
    "    c, d = 48, 48\n",
    "    for i in range(x):\n",
    "        c += 1\n",
    "        i += 1\n",
    "        solve_for_area(c, d)\n",
    "        print(i)\n",
    "func(100)"
   ]
  },
  {
   "cell_type": "code",
   "execution_count": null,
   "metadata": {},
   "outputs": [],
   "source": []
  }
 ],
 "metadata": {
  "kernelspec": {
   "display_name": "Python 3",
   "language": "python",
   "name": "python3"
  },
  "language_info": {
   "codemirror_mode": {
    "name": "ipython",
    "version": 3
   },
   "file_extension": ".py",
   "mimetype": "text/x-python",
   "name": "python",
   "nbconvert_exporter": "python",
   "pygments_lexer": "ipython3",
   "version": "3.7.3"
  }
 },
 "nbformat": 4,
 "nbformat_minor": 2
}
