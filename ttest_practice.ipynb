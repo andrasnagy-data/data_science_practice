{
 "cells": [
  {
   "cell_type": "raw",
   "metadata": {},
   "source": [
    "Problem: mean weight of chips in one bag of X brand should be 29 g, one suspects that it is in fact less, than that\n",
    "n = 200, alpha = 0.05\n",
    "H(0): mu = 29 g  \n",
    "H(a): mu < 29 g"
   ]
  },
  {
   "cell_type": "code",
   "execution_count": 3,
   "metadata": {},
   "outputs": [],
   "source": [
    "import numpy as np\n",
    "# sample mean & std\n",
    "mu, sigma = 27, 0.9\n",
    "sample = np.random.normal(mu, sigma, 200)\n",
    "# population mean & std\n",
    "mu_pop, sigma_pop = 29, 0.8\n",
    "population = np.random.normal(mu_pop, sigma_pop, 2000)"
   ]
  },
  {
   "cell_type": "code",
   "execution_count": 5,
   "metadata": {},
   "outputs": [
    {
     "data": {
      "text/plain": [
       "Ttest_1sampResult(statistic=-33.38574977993275, pvalue=1.720999950053717e-83)"
      ]
     },
     "execution_count": 5,
     "metadata": {},
     "output_type": "execute_result"
    }
   ],
   "source": [
    "from scipy import stats\n",
    "# t-test \n",
    "stats.ttest_1samp(sample, mu_pop)"
   ]
  },
  {
   "cell_type": "raw",
   "metadata": {},
   "source": [
    "We reject the H(0) at alpha level = 0.05."
   ]
  }
 ],
 "metadata": {
  "kernelspec": {
   "display_name": "Python 3",
   "language": "python",
   "name": "python3"
  },
  "language_info": {
   "codemirror_mode": {
    "name": "ipython",
    "version": 3
   },
   "file_extension": ".py",
   "mimetype": "text/x-python",
   "name": "python",
   "nbconvert_exporter": "python",
   "pygments_lexer": "ipython3",
   "version": "3.7.4"
  }
 },
 "nbformat": 4,
 "nbformat_minor": 4
}
